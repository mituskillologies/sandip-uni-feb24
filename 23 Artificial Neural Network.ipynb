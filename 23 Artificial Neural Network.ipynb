{
 "cells": [
  {
   "cell_type": "markdown",
   "id": "68458016-1518-4a13-acb1-9b6c88bc25c3",
   "metadata": {},
   "source": [
    "#### Dataset"
   ]
  },
  {
   "cell_type": "code",
   "execution_count": 2,
   "id": "a98e0cd5-4f21-4e22-91ce-c0541681f510",
   "metadata": {},
   "outputs": [],
   "source": [
    "# banknotes.csv\n",
    "# Location: https://mitu.co.in/dataset"
   ]
  },
  {
   "cell_type": "markdown",
   "id": "7c82d877-2e2d-4c1b-ba4d-a47611d944c2",
   "metadata": {},
   "source": [
    "#### Import the libraries"
   ]
  },
  {
   "cell_type": "code",
   "execution_count": 5,
   "id": "e661470f-7f27-40b8-9918-8be9bbc142ea",
   "metadata": {},
   "outputs": [],
   "source": [
    "import pandas as pd\n",
    "import numpy as np"
   ]
  },
  {
   "cell_type": "markdown",
   "id": "269c968f-ad7d-4ccc-8c57-5d381dbf1fd8",
   "metadata": {},
   "source": [
    "#### Read the data"
   ]
  },
  {
   "cell_type": "code",
   "execution_count": 7,
   "id": "947b04ee-0816-4f54-869b-5addf178f901",
   "metadata": {},
   "outputs": [],
   "source": [
    "df = pd.read_csv('banknotes.csv')"
   ]
  },
  {
   "cell_type": "code",
   "execution_count": 8,
   "id": "2ea64c76-e13e-4c1b-93a9-13455e002d04",
   "metadata": {},
   "outputs": [
    {
     "data": {
      "text/html": [
       "<div>\n",
       "<style scoped>\n",
       "    .dataframe tbody tr th:only-of-type {\n",
       "        vertical-align: middle;\n",
       "    }\n",
       "\n",
       "    .dataframe tbody tr th {\n",
       "        vertical-align: top;\n",
       "    }\n",
       "\n",
       "    .dataframe thead th {\n",
       "        text-align: right;\n",
       "    }\n",
       "</style>\n",
       "<table border=\"1\" class=\"dataframe\">\n",
       "  <thead>\n",
       "    <tr style=\"text-align: right;\">\n",
       "      <th></th>\n",
       "      <th>Variance</th>\n",
       "      <th>Skewness</th>\n",
       "      <th>Curtosis</th>\n",
       "      <th>Entropy</th>\n",
       "      <th>Class</th>\n",
       "    </tr>\n",
       "  </thead>\n",
       "  <tbody>\n",
       "    <tr>\n",
       "      <th>0</th>\n",
       "      <td>3.62160</td>\n",
       "      <td>8.66610</td>\n",
       "      <td>-2.8073</td>\n",
       "      <td>-0.44699</td>\n",
       "      <td>0</td>\n",
       "    </tr>\n",
       "    <tr>\n",
       "      <th>1</th>\n",
       "      <td>4.54590</td>\n",
       "      <td>8.16740</td>\n",
       "      <td>-2.4586</td>\n",
       "      <td>-1.46210</td>\n",
       "      <td>0</td>\n",
       "    </tr>\n",
       "    <tr>\n",
       "      <th>2</th>\n",
       "      <td>3.86600</td>\n",
       "      <td>-2.63830</td>\n",
       "      <td>1.9242</td>\n",
       "      <td>0.10645</td>\n",
       "      <td>0</td>\n",
       "    </tr>\n",
       "    <tr>\n",
       "      <th>3</th>\n",
       "      <td>3.45660</td>\n",
       "      <td>9.52280</td>\n",
       "      <td>-4.0112</td>\n",
       "      <td>-3.59440</td>\n",
       "      <td>0</td>\n",
       "    </tr>\n",
       "    <tr>\n",
       "      <th>4</th>\n",
       "      <td>0.32924</td>\n",
       "      <td>-4.45520</td>\n",
       "      <td>4.5718</td>\n",
       "      <td>-0.98880</td>\n",
       "      <td>0</td>\n",
       "    </tr>\n",
       "    <tr>\n",
       "      <th>...</th>\n",
       "      <td>...</td>\n",
       "      <td>...</td>\n",
       "      <td>...</td>\n",
       "      <td>...</td>\n",
       "      <td>...</td>\n",
       "    </tr>\n",
       "    <tr>\n",
       "      <th>1367</th>\n",
       "      <td>0.40614</td>\n",
       "      <td>1.34920</td>\n",
       "      <td>-1.4501</td>\n",
       "      <td>-0.55949</td>\n",
       "      <td>1</td>\n",
       "    </tr>\n",
       "    <tr>\n",
       "      <th>1368</th>\n",
       "      <td>-1.38870</td>\n",
       "      <td>-4.87730</td>\n",
       "      <td>6.4774</td>\n",
       "      <td>0.34179</td>\n",
       "      <td>1</td>\n",
       "    </tr>\n",
       "    <tr>\n",
       "      <th>1369</th>\n",
       "      <td>-3.75030</td>\n",
       "      <td>-13.45860</td>\n",
       "      <td>17.5932</td>\n",
       "      <td>-2.77710</td>\n",
       "      <td>1</td>\n",
       "    </tr>\n",
       "    <tr>\n",
       "      <th>1370</th>\n",
       "      <td>-3.56370</td>\n",
       "      <td>-8.38270</td>\n",
       "      <td>12.3930</td>\n",
       "      <td>-1.28230</td>\n",
       "      <td>1</td>\n",
       "    </tr>\n",
       "    <tr>\n",
       "      <th>1371</th>\n",
       "      <td>-2.54190</td>\n",
       "      <td>-0.65804</td>\n",
       "      <td>2.6842</td>\n",
       "      <td>1.19520</td>\n",
       "      <td>1</td>\n",
       "    </tr>\n",
       "  </tbody>\n",
       "</table>\n",
       "<p>1372 rows × 5 columns</p>\n",
       "</div>"
      ],
      "text/plain": [
       "      Variance  Skewness  Curtosis  Entropy  Class\n",
       "0      3.62160   8.66610   -2.8073 -0.44699      0\n",
       "1      4.54590   8.16740   -2.4586 -1.46210      0\n",
       "2      3.86600  -2.63830    1.9242  0.10645      0\n",
       "3      3.45660   9.52280   -4.0112 -3.59440      0\n",
       "4      0.32924  -4.45520    4.5718 -0.98880      0\n",
       "...        ...       ...       ...      ...    ...\n",
       "1367   0.40614   1.34920   -1.4501 -0.55949      1\n",
       "1368  -1.38870  -4.87730    6.4774  0.34179      1\n",
       "1369  -3.75030 -13.45860   17.5932 -2.77710      1\n",
       "1370  -3.56370  -8.38270   12.3930 -1.28230      1\n",
       "1371  -2.54190  -0.65804    2.6842  1.19520      1\n",
       "\n",
       "[1372 rows x 5 columns]"
      ]
     },
     "execution_count": 8,
     "metadata": {},
     "output_type": "execute_result"
    }
   ],
   "source": [
    "df"
   ]
  },
  {
   "cell_type": "markdown",
   "id": "4cb732cf-1155-42f2-873e-e03954dd61be",
   "metadata": {},
   "source": [
    "#### Separate the input and output data"
   ]
  },
  {
   "cell_type": "code",
   "execution_count": 23,
   "id": "9b3d7b96-d872-47ac-9275-c6d4b15e4f89",
   "metadata": {},
   "outputs": [],
   "source": [
    "x = df.drop('Class', axis = 1)\n",
    "y = df['Class']"
   ]
  },
  {
   "cell_type": "markdown",
   "id": "db2609d1-e364-4cb5-b1e4-e78cd5e60577",
   "metadata": {},
   "source": [
    "#### Build the Neural Network Model"
   ]
  },
  {
   "cell_type": "code",
   "execution_count": 24,
   "id": "b5ac89de-9f57-4ec1-b587-853c9017fe53",
   "metadata": {},
   "outputs": [],
   "source": [
    "from keras.models import Sequential\n",
    "from keras.layers import Dense"
   ]
  },
  {
   "cell_type": "code",
   "execution_count": 25,
   "id": "04544095-87ac-4c87-83d3-0df2b1a629e0",
   "metadata": {},
   "outputs": [],
   "source": [
    "model = Sequential()\n",
    "\n",
    "layer1 = Dense(4, input_shape=(4,), activation='relu')\n",
    "model.add(layer1)\n",
    "\n",
    "layer2 = Dense(16, activation='relu')\n",
    "model.add(layer2)\n",
    "\n",
    "layer3 = Dense(8, activation='relu')\n",
    "model.add(layer3)\n",
    "\n",
    "layer4 = Dense(1, activation='sigmoid')\n",
    "model.add(layer4)"
   ]
  },
  {
   "cell_type": "code",
   "execution_count": 26,
   "id": "0c1e2e6c-6b43-4384-9b12-a1c4cb01d479",
   "metadata": {},
   "outputs": [
    {
     "name": "stdout",
     "output_type": "stream",
     "text": [
      "Model: \"sequential_2\"\n",
      "_________________________________________________________________\n",
      " Layer (type)                Output Shape              Param #   \n",
      "=================================================================\n",
      " dense_8 (Dense)             (None, 4)                 20        \n",
      "                                                                 \n",
      " dense_9 (Dense)             (None, 16)                80        \n",
      "                                                                 \n",
      " dense_10 (Dense)            (None, 8)                 136       \n",
      "                                                                 \n",
      " dense_11 (Dense)            (None, 1)                 9         \n",
      "                                                                 \n",
      "=================================================================\n",
      "Total params: 245 (980.00 Byte)\n",
      "Trainable params: 245 (980.00 Byte)\n",
      "Non-trainable params: 0 (0.00 Byte)\n",
      "_________________________________________________________________\n"
     ]
    }
   ],
   "source": [
    "model.summary()"
   ]
  },
  {
   "cell_type": "markdown",
   "id": "4be18434-6659-4d50-9474-2df804b62a67",
   "metadata": {},
   "source": [
    "#### Compile the model"
   ]
  },
  {
   "cell_type": "code",
   "execution_count": 27,
   "id": "6b1de324-87d1-4750-95f9-c268d708d12d",
   "metadata": {},
   "outputs": [],
   "source": [
    "model.compile(loss='binary_crossentropy', optimizer='adam', metrics=['accuracy'])"
   ]
  },
  {
   "cell_type": "markdown",
   "id": "77048641-7b6f-421e-b9ad-699692a5d164",
   "metadata": {},
   "source": [
    "#### Train the model"
   ]
  },
  {
   "cell_type": "code",
   "execution_count": 29,
   "id": "2266e7f1-31cf-420a-bfb0-a5966c1d909e",
   "metadata": {},
   "outputs": [
    {
     "name": "stdout",
     "output_type": "stream",
     "text": [
      "Epoch 1/10\n",
      "275/275 [==============================] - 0s 2ms/step - loss: 0.0052 - accuracy: 0.9978\n",
      "Epoch 2/10\n",
      "275/275 [==============================] - 0s 2ms/step - loss: 0.0046 - accuracy: 0.9993\n",
      "Epoch 3/10\n",
      "275/275 [==============================] - 1s 2ms/step - loss: 0.0034 - accuracy: 0.9993\n",
      "Epoch 4/10\n",
      "275/275 [==============================] - 0s 2ms/step - loss: 0.0026 - accuracy: 0.9993\n",
      "Epoch 5/10\n",
      "275/275 [==============================] - 0s 2ms/step - loss: 0.0027 - accuracy: 0.9985\n",
      "Epoch 6/10\n",
      "275/275 [==============================] - 0s 2ms/step - loss: 0.0014 - accuracy: 0.9993\n",
      "Epoch 7/10\n",
      "275/275 [==============================] - 1s 2ms/step - loss: 0.0017 - accuracy: 0.9985\n",
      "Epoch 8/10\n",
      "275/275 [==============================] - 0s 2ms/step - loss: 8.4277e-04 - accuracy: 1.0000\n",
      "Epoch 9/10\n",
      "275/275 [==============================] - 0s 2ms/step - loss: 6.9224e-04 - accuracy: 1.0000\n",
      "Epoch 10/10\n",
      "275/275 [==============================] - 1s 2ms/step - loss: 4.9282e-04 - accuracy: 1.0000\n"
     ]
    },
    {
     "data": {
      "text/plain": [
       "<keras.src.callbacks.History at 0x7fac203d5c30>"
      ]
     },
     "execution_count": 29,
     "metadata": {},
     "output_type": "execute_result"
    }
   ],
   "source": [
    "model.fit(x, y, epochs=10, batch_size=5)"
   ]
  },
  {
   "cell_type": "markdown",
   "id": "08d8a797-3881-4587-8795-628175955c83",
   "metadata": {},
   "source": [
    "#### Cross Validation"
   ]
  },
  {
   "cell_type": "code",
   "execution_count": 31,
   "id": "095055c3-32b9-49cf-b4ac-70e0a26fb550",
   "metadata": {},
   "outputs": [],
   "source": [
    "from sklearn.model_selection import train_test_split"
   ]
  },
  {
   "cell_type": "code",
   "execution_count": 32,
   "id": "e0d818ed-7691-41f5-8f0f-ab6df6fcffa9",
   "metadata": {},
   "outputs": [],
   "source": [
    "x_train, x_test, y_train, y_test = train_test_split(x, y, random_state=0)"
   ]
  },
  {
   "cell_type": "code",
   "execution_count": 33,
   "id": "f845eace-6af1-48d2-8465-263b1fa79cb5",
   "metadata": {},
   "outputs": [
    {
     "data": {
      "text/plain": [
       "(1029, 4)"
      ]
     },
     "execution_count": 33,
     "metadata": {},
     "output_type": "execute_result"
    }
   ],
   "source": [
    "x_train.shape"
   ]
  },
  {
   "cell_type": "code",
   "execution_count": 34,
   "id": "de3334e6-9769-430f-8dc9-a7e34e4c3c48",
   "metadata": {},
   "outputs": [
    {
     "data": {
      "text/plain": [
       "(343, 4)"
      ]
     },
     "execution_count": 34,
     "metadata": {},
     "output_type": "execute_result"
    }
   ],
   "source": [
    "x_test.shape"
   ]
  },
  {
   "cell_type": "code",
   "execution_count": 35,
   "id": "77d51550-3de2-4a90-bb44-3b996df8ce66",
   "metadata": {},
   "outputs": [
    {
     "name": "stdout",
     "output_type": "stream",
     "text": [
      "Epoch 1/10\n",
      "206/206 [==============================] - 0s 2ms/step - loss: 3.7515e-04 - accuracy: 1.0000\n",
      "Epoch 2/10\n",
      "206/206 [==============================] - 0s 2ms/step - loss: 3.6620e-04 - accuracy: 1.0000\n",
      "Epoch 3/10\n",
      "206/206 [==============================] - 0s 2ms/step - loss: 3.1081e-04 - accuracy: 1.0000\n",
      "Epoch 4/10\n",
      "206/206 [==============================] - 0s 2ms/step - loss: 2.2628e-04 - accuracy: 1.0000\n",
      "Epoch 5/10\n",
      "206/206 [==============================] - 0s 2ms/step - loss: 2.3474e-04 - accuracy: 1.0000\n",
      "Epoch 6/10\n",
      "206/206 [==============================] - 1s 2ms/step - loss: 2.1188e-04 - accuracy: 1.0000\n",
      "Epoch 7/10\n",
      "206/206 [==============================] - 0s 2ms/step - loss: 1.7568e-04 - accuracy: 1.0000\n",
      "Epoch 8/10\n",
      "206/206 [==============================] - 0s 2ms/step - loss: 1.4054e-04 - accuracy: 1.0000\n",
      "Epoch 9/10\n",
      "206/206 [==============================] - 1s 3ms/step - loss: 1.2663e-04 - accuracy: 1.0000\n",
      "Epoch 10/10\n",
      "206/206 [==============================] - 0s 2ms/step - loss: 1.1074e-04 - accuracy: 1.0000\n"
     ]
    },
    {
     "data": {
      "text/plain": [
       "<keras.src.callbacks.History at 0x7fabbe2bae90>"
      ]
     },
     "execution_count": 35,
     "metadata": {},
     "output_type": "execute_result"
    }
   ],
   "source": [
    "model.fit(x_train, y_train, epochs=10, batch_size=5)"
   ]
  },
  {
   "cell_type": "code",
   "execution_count": 36,
   "id": "92cec459-52bf-4f45-bc6c-ec6dd9442fa9",
   "metadata": {},
   "outputs": [
    {
     "data": {
      "text/plain": [
       "[<tf.Variable 'dense_8/kernel:0' shape=(4, 4) dtype=float32, numpy=\n",
       " array([[-1.2210436 ,  0.6180544 ,  0.63505304, -0.278343  ],\n",
       "        [-0.30193844, -0.27036014,  0.3643877 , -0.38686016],\n",
       "        [ 0.357074  , -0.52644634,  0.88650304, -0.6374234 ],\n",
       "        [-0.05005104, -0.30257925, -0.3091052 ,  0.01529625]],\n",
       "       dtype=float32)>,\n",
       " <tf.Variable 'dense_8/bias:0' shape=(4,) dtype=float32, numpy=array([ 0.29790044, -0.04312701, -0.01047156,  0.8711221 ], dtype=float32)>,\n",
       " <tf.Variable 'dense_9/kernel:0' shape=(4, 16) dtype=float32, numpy=\n",
       " array([[ 0.06814282,  0.17874108,  0.28566226,  0.35170445, -0.5453114 ,\n",
       "          0.00421645,  0.04395691, -0.3145623 ,  0.31568438, -0.16537951,\n",
       "          0.5527851 ,  0.19191521,  0.05377503,  0.31909624, -0.5092088 ,\n",
       "          0.24635285],\n",
       "        [-0.3703425 ,  0.30451262, -0.13776843, -0.05927209, -0.47841796,\n",
       "          0.35448712, -0.31322184,  0.4843617 ,  0.62761396,  0.8188699 ,\n",
       "          0.15179648, -0.21359743,  0.19079572, -0.20455056,  0.0667418 ,\n",
       "          0.47100556],\n",
       "        [ 0.20379458, -0.14830871, -0.35006762, -0.2051249 , -0.3668995 ,\n",
       "          0.25200298,  0.61152744,  0.72031456, -0.4029718 ,  0.37633336,\n",
       "         -0.18829453,  0.47192553, -0.35785547, -0.35987994, -0.4805576 ,\n",
       "         -0.4339121 ],\n",
       "        [ 0.6731178 ,  0.8210363 ,  0.5064481 ,  0.815825  , -0.15996858,\n",
       "         -0.8463335 ,  0.41918698, -0.50572944,  1.3556798 ,  0.18413681,\n",
       "          1.0041726 ,  0.50868833, -0.53224814, -0.5518009 ,  0.01532896,\n",
       "          0.5153832 ]], dtype=float32)>,\n",
       " <tf.Variable 'dense_9/bias:0' shape=(16,) dtype=float32, numpy=\n",
       " array([ 0.07410624,  0.11357184,  0.21444781,  0.1681597 ,  0.        ,\n",
       "         0.25592154,  0.19044308,  0.3720968 ,  0.28304622,  0.4084815 ,\n",
       "         0.13224804,  0.1796356 ,  0.4126349 , -0.01586019, -0.0730737 ,\n",
       "         0.49936476], dtype=float32)>,\n",
       " <tf.Variable 'dense_10/kernel:0' shape=(16, 8) dtype=float32, numpy=\n",
       " array([[-0.19912228,  0.07935502, -0.25836217,  0.25397086, -0.37855518,\n",
       "          0.58954704, -0.3024754 ,  0.29498234],\n",
       "        [ 0.14180134,  0.40519857,  0.339006  ,  0.39420772,  0.32149887,\n",
       "         -0.5551848 , -0.39323804,  0.36812082],\n",
       "        [-0.4020042 ,  1.0109626 ,  0.38697293,  0.14443561,  0.23832938,\n",
       "         -0.26178473, -0.44827434,  0.81238294],\n",
       "        [ 0.23577102,  0.08467599,  0.3713589 ,  0.7572968 , -0.30475277,\n",
       "         -0.00376692, -0.3693952 ,  0.06675018],\n",
       "        [ 0.3485706 ,  0.07243443, -0.22338116, -0.28311133, -0.23555493,\n",
       "          0.27416742,  0.11320245,  0.29178262],\n",
       "        [ 0.45855227,  0.30617058,  0.12066577, -0.5502336 ,  0.54551816,\n",
       "          0.61852324,  0.3828725 , -0.36039928],\n",
       "        [ 0.5011602 ,  0.18343759, -0.34897217,  0.38481864, -0.06940082,\n",
       "          0.28573653,  0.45205304, -0.09623531],\n",
       "        [-0.34753102, -0.68856466, -0.16309956, -0.47894055,  0.35230562,\n",
       "          0.68511516,  0.735996  , -0.43929246],\n",
       "        [-0.09112081,  0.74085593,  0.3683467 ,  0.82809824, -0.16945925,\n",
       "         -0.73692477, -0.09259123,  0.613925  ],\n",
       "        [-0.4069313 ,  0.03413555,  0.04054689,  0.26300758,  0.09375226,\n",
       "          0.83302385,  0.3291927 ,  0.24211022],\n",
       "        [ 0.18240875,  0.5196179 ,  0.02529143,  0.6633503 , -0.10776601,\n",
       "         -0.53620833, -0.35155612, -0.11234833],\n",
       "        [ 0.1695701 , -0.02639612,  0.37052768,  0.09389289,  0.27470636,\n",
       "         -0.05842945,  0.21678202,  0.3189291 ],\n",
       "        [-0.6989358 ,  0.24555096,  0.20204446,  0.3554287 ,  0.36066395,\n",
       "          0.3147394 ,  0.70130634, -0.09299923],\n",
       "        [-0.25786993,  0.2277965 ,  0.26163724, -0.2737677 , -0.63840485,\n",
       "          0.19439973, -0.34079993,  1.2355391 ],\n",
       "        [ 0.28190488,  0.00801515,  0.03436813, -0.20085828, -0.3058552 ,\n",
       "          0.16143675, -0.4953924 , -0.0860666 ],\n",
       "        [-0.40590662,  0.5520209 ,  0.15099506,  0.751883  , -0.20809716,\n",
       "          0.27329847,  0.01659469,  0.79893535]], dtype=float32)>,\n",
       " <tf.Variable 'dense_10/bias:0' shape=(8,) dtype=float32, numpy=\n",
       " array([-0.07796286,  0.33509636,  0.09413451,  0.07305857,  0.15313719,\n",
       "         0.33653352,  0.353282  ,  0.12307145], dtype=float32)>,\n",
       " <tf.Variable 'dense_11/kernel:0' shape=(8, 1) dtype=float32, numpy=\n",
       " array([[-0.48570684],\n",
       "        [ 0.39164943],\n",
       "        [ 0.11945403],\n",
       "        [ 0.9289284 ],\n",
       "        [-0.72546935],\n",
       "        [-1.3346817 ],\n",
       "        [-0.9698051 ],\n",
       "        [ 0.9118984 ]], dtype=float32)>,\n",
       " <tf.Variable 'dense_11/bias:0' shape=(1,) dtype=float32, numpy=array([-0.04874443], dtype=float32)>]"
      ]
     },
     "execution_count": 36,
     "metadata": {},
     "output_type": "execute_result"
    }
   ],
   "source": [
    "model.weights"
   ]
  },
  {
   "cell_type": "code",
   "execution_count": 37,
   "id": "c214b69f-9536-43ff-90d1-fefe2a2098e9",
   "metadata": {},
   "outputs": [
    {
     "name": "stdout",
     "output_type": "stream",
     "text": [
      "343/343 [==============================] - 1s 2ms/step - loss: 7.6691e-05 - accuracy: 1.0000\n"
     ]
    },
    {
     "data": {
      "text/plain": [
       "[7.669073966098949e-05, 1.0]"
      ]
     },
     "execution_count": 37,
     "metadata": {},
     "output_type": "execute_result"
    }
   ],
   "source": [
    "model.evaluate(x_test, y_test, batch_size=1)"
   ]
  },
  {
   "cell_type": "markdown",
   "id": "add4feb6-fd18-4b35-9cd0-e810596dcf20",
   "metadata": {},
   "source": [
    "#### Prediction on unseen data"
   ]
  },
  {
   "cell_type": "code",
   "execution_count": 39,
   "id": "32509aa1-ab78-4d86-bda1-b705099dd63a",
   "metadata": {},
   "outputs": [],
   "source": [
    "new = pd.DataFrame({\n",
    "    'Variance': [3.86600, 0.32924, -3.56370], \n",
    "    'Skewness': [-2.63830, -4.45520, -8.38270],\n",
    "    'Curtosis': [1.9242, 4.5718, 12.3930],\n",
    "    'Entropy': [0.10645, -0.98880, -1.28230]\n",
    "})"
   ]
  },
  {
   "cell_type": "code",
   "execution_count": 40,
   "id": "237179ed-321e-4646-bb57-b363e7b3eb2c",
   "metadata": {},
   "outputs": [
    {
     "data": {
      "text/html": [
       "<div>\n",
       "<style scoped>\n",
       "    .dataframe tbody tr th:only-of-type {\n",
       "        vertical-align: middle;\n",
       "    }\n",
       "\n",
       "    .dataframe tbody tr th {\n",
       "        vertical-align: top;\n",
       "    }\n",
       "\n",
       "    .dataframe thead th {\n",
       "        text-align: right;\n",
       "    }\n",
       "</style>\n",
       "<table border=\"1\" class=\"dataframe\">\n",
       "  <thead>\n",
       "    <tr style=\"text-align: right;\">\n",
       "      <th></th>\n",
       "      <th>Variance</th>\n",
       "      <th>Skewness</th>\n",
       "      <th>Curtosis</th>\n",
       "      <th>Entropy</th>\n",
       "    </tr>\n",
       "  </thead>\n",
       "  <tbody>\n",
       "    <tr>\n",
       "      <th>0</th>\n",
       "      <td>3.86600</td>\n",
       "      <td>-2.6383</td>\n",
       "      <td>1.9242</td>\n",
       "      <td>0.10645</td>\n",
       "    </tr>\n",
       "    <tr>\n",
       "      <th>1</th>\n",
       "      <td>0.32924</td>\n",
       "      <td>-4.4552</td>\n",
       "      <td>4.5718</td>\n",
       "      <td>-0.98880</td>\n",
       "    </tr>\n",
       "    <tr>\n",
       "      <th>2</th>\n",
       "      <td>-3.56370</td>\n",
       "      <td>-8.3827</td>\n",
       "      <td>12.3930</td>\n",
       "      <td>-1.28230</td>\n",
       "    </tr>\n",
       "  </tbody>\n",
       "</table>\n",
       "</div>"
      ],
      "text/plain": [
       "   Variance  Skewness  Curtosis  Entropy\n",
       "0   3.86600   -2.6383    1.9242  0.10645\n",
       "1   0.32924   -4.4552    4.5718 -0.98880\n",
       "2  -3.56370   -8.3827   12.3930 -1.28230"
      ]
     },
     "execution_count": 40,
     "metadata": {},
     "output_type": "execute_result"
    }
   ],
   "source": [
    "new"
   ]
  },
  {
   "cell_type": "code",
   "execution_count": 42,
   "id": "9dcb4aa8-fa68-40af-85b9-f0f6f0e0b3eb",
   "metadata": {},
   "outputs": [
    {
     "name": "stdout",
     "output_type": "stream",
     "text": [
      "1/1 [==============================] - 0s 33ms/step\n"
     ]
    }
   ],
   "source": [
    "pred = model.predict(new)"
   ]
  },
  {
   "cell_type": "code",
   "execution_count": 44,
   "id": "331774a5-db9f-4648-8fe1-c294f4873277",
   "metadata": {},
   "outputs": [
    {
     "name": "stdout",
     "output_type": "stream",
     "text": [
      "0 0 1 "
     ]
    }
   ],
   "source": [
    "for x in pred:\n",
    "    if x > 0.5:\n",
    "        print(1, end=' ')\n",
    "    else:\n",
    "        print(0, end = ' ')"
   ]
  },
  {
   "cell_type": "code",
   "execution_count": null,
   "id": "89be88fe-4418-49ef-99fc-8452fe46c5dc",
   "metadata": {},
   "outputs": [],
   "source": []
  },
  {
   "cell_type": "code",
   "execution_count": null,
   "id": "57da5e40-7f09-4ba9-80d3-8702f6d771b4",
   "metadata": {},
   "outputs": [],
   "source": []
  }
 ],
 "metadata": {
  "kernelspec": {
   "display_name": "Python 3 (ipykernel)",
   "language": "python",
   "name": "python3"
  },
  "language_info": {
   "codemirror_mode": {
    "name": "ipython",
    "version": 3
   },
   "file_extension": ".py",
   "mimetype": "text/x-python",
   "name": "python",
   "nbconvert_exporter": "python",
   "pygments_lexer": "ipython3",
   "version": "3.10.12"
  }
 },
 "nbformat": 4,
 "nbformat_minor": 5
}
