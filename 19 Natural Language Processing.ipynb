{
 "cells": [
  {
   "cell_type": "code",
   "execution_count": 1,
   "id": "55dc9ee0-54bd-4e46-8b06-53d6adc9e06f",
   "metadata": {},
   "outputs": [],
   "source": [
    "# pip install nltk"
   ]
  },
  {
   "cell_type": "code",
   "execution_count": 2,
   "id": "8b0de119-052e-4799-b592-aa47294d5850",
   "metadata": {},
   "outputs": [],
   "source": [
    "import nltk"
   ]
  },
  {
   "cell_type": "code",
   "execution_count": 3,
   "id": "df484545-d4a7-4531-9e95-a1779d578dbc",
   "metadata": {},
   "outputs": [
    {
     "name": "stderr",
     "output_type": "stream",
     "text": [
      "[nltk_data] Downloading package punkt to /home/mitu/nltk_data...\n",
      "[nltk_data]   Package punkt is already up-to-date!\n",
      "[nltk_data] Downloading package averaged_perceptron_tagger to\n",
      "[nltk_data]     /home/mitu/nltk_data...\n",
      "[nltk_data]   Package averaged_perceptron_tagger is already up-to-\n",
      "[nltk_data]       date!\n",
      "[nltk_data] Downloading package stopwords to /home/mitu/nltk_data...\n",
      "[nltk_data]   Unzipping corpora/stopwords.zip.\n",
      "[nltk_data] Downloading package wordnet to /home/mitu/nltk_data...\n",
      "[nltk_data]   Package wordnet is already up-to-date!\n",
      "[nltk_data] Downloading package omw-1.4 to /home/mitu/nltk_data...\n",
      "[nltk_data]   Package omw-1.4 is already up-to-date!\n"
     ]
    },
    {
     "data": {
      "text/plain": [
       "True"
      ]
     },
     "execution_count": 3,
     "metadata": {},
     "output_type": "execute_result"
    }
   ],
   "source": [
    "nltk.download('punkt')\n",
    "nltk.download('averaged_perceptron_tagger')\n",
    "nltk.download('stopwords')\n",
    "nltk.download('wordnet')\n",
    "nltk.download('omw-1.4')"
   ]
  },
  {
   "cell_type": "code",
   "execution_count": 14,
   "id": "a6c0209e-bf2f-47e6-8f59-f89de27cc1c7",
   "metadata": {},
   "outputs": [],
   "source": [
    "sent = 'They told that their ages are 21, 25 and 23 respectively.'"
   ]
  },
  {
   "cell_type": "code",
   "execution_count": 15,
   "id": "96aac25a-0a4d-4e8a-9484-0a7f7679d4e9",
   "metadata": {},
   "outputs": [],
   "source": [
    "# Find the average of ages mentioned in the sentence."
   ]
  },
  {
   "cell_type": "code",
   "execution_count": 16,
   "id": "ae038c4c-cbec-46a2-b677-1b30cb9b3c97",
   "metadata": {},
   "outputs": [],
   "source": [
    "ages = []\n",
    "for n in sent.split():\n",
    "    if n.isdigit():\n",
    "        ages.append(int(n))"
   ]
  },
  {
   "cell_type": "code",
   "execution_count": 17,
   "id": "5d03bc69-310e-4665-bdd6-e74872143180",
   "metadata": {},
   "outputs": [
    {
     "data": {
      "text/plain": [
       "24.0"
      ]
     },
     "execution_count": 17,
     "metadata": {},
     "output_type": "execute_result"
    }
   ],
   "source": [
    "sum(ages) / len(ages)"
   ]
  },
  {
   "cell_type": "code",
   "execution_count": 18,
   "id": "6714899a-a146-4f9b-9e41-8c785a15a6bc",
   "metadata": {},
   "outputs": [],
   "source": [
    "ages = [int(n) for n in sent.split() if n.isdigit()]"
   ]
  },
  {
   "cell_type": "code",
   "execution_count": 19,
   "id": "f58bda1a-48f9-405a-96d2-b63ae8fed1a3",
   "metadata": {},
   "outputs": [
    {
     "data": {
      "text/plain": [
       "24.0"
      ]
     },
     "execution_count": 19,
     "metadata": {},
     "output_type": "execute_result"
    }
   ],
   "source": [
    "sum(ages) / len(ages)"
   ]
  },
  {
   "cell_type": "markdown",
   "id": "ef219e4e-821d-4b2b-9c96-241e0f830890",
   "metadata": {},
   "source": [
    "#### Tokenization"
   ]
  },
  {
   "cell_type": "code",
   "execution_count": 21,
   "id": "ede3187b-7803-44aa-ab0a-0bb914ef0e1c",
   "metadata": {},
   "outputs": [],
   "source": [
    "from nltk.tokenize import word_tokenize, sent_tokenize"
   ]
  },
  {
   "cell_type": "code",
   "execution_count": 23,
   "id": "10ed8f32-d076-401f-b1a9-f3da66c81f1d",
   "metadata": {},
   "outputs": [],
   "source": [
    "sent = 'Hello friends! How are you? I hope, you like Python Programming.'"
   ]
  },
  {
   "cell_type": "code",
   "execution_count": 24,
   "id": "9c7c1773-6224-4450-a3d0-5a8a65ef5380",
   "metadata": {},
   "outputs": [
    {
     "data": {
      "text/plain": [
       "['Hello friends!', 'How are you?', 'I hope, you like Python Programming.']"
      ]
     },
     "execution_count": 24,
     "metadata": {},
     "output_type": "execute_result"
    }
   ],
   "source": [
    "sent_tokenize(sent)"
   ]
  },
  {
   "cell_type": "code",
   "execution_count": 25,
   "id": "296a675d-445e-40bf-935a-3e2f01fc9bb9",
   "metadata": {},
   "outputs": [
    {
     "data": {
      "text/plain": [
       "['Hello',\n",
       " 'friends',\n",
       " '!',\n",
       " 'How',\n",
       " 'are',\n",
       " 'you',\n",
       " '?',\n",
       " 'I',\n",
       " 'hope',\n",
       " ',',\n",
       " 'you',\n",
       " 'like',\n",
       " 'Python',\n",
       " 'Programming',\n",
       " '.']"
      ]
     },
     "execution_count": 25,
     "metadata": {},
     "output_type": "execute_result"
    }
   ],
   "source": [
    "word_tokenize(sent)"
   ]
  },
  {
   "cell_type": "markdown",
   "id": "aaceabd8-34e1-43c7-805f-22805c8c4d05",
   "metadata": {},
   "source": [
    "#### Punctuation symbol remover"
   ]
  },
  {
   "cell_type": "code",
   "execution_count": 27,
   "id": "7b9fa757-77e4-4da7-a1e8-dff02ca69a9e",
   "metadata": {},
   "outputs": [
    {
     "data": {
      "text/plain": [
       "'!\"#$%&\\'()*+,-./:;<=>?@[\\\\]^_`{|}~'"
      ]
     },
     "execution_count": 27,
     "metadata": {},
     "output_type": "execute_result"
    }
   ],
   "source": [
    "import string\n",
    "string.punctuation"
   ]
  },
  {
   "cell_type": "code",
   "execution_count": 30,
   "id": "e8ee8421-2f91-44c0-be2e-b5ae484ad086",
   "metadata": {},
   "outputs": [],
   "source": [
    "new = []\n",
    "for word in word_tokenize(sent):\n",
    "    if word not in string.punctuation:\n",
    "        new.append(word)"
   ]
  },
  {
   "cell_type": "code",
   "execution_count": 32,
   "id": "cc18237c-627c-43dc-be90-db9002f27058",
   "metadata": {},
   "outputs": [
    {
     "data": {
      "text/plain": [
       "'Hello friends How are you I hope you like Python Programming'"
      ]
     },
     "execution_count": 32,
     "metadata": {},
     "output_type": "execute_result"
    }
   ],
   "source": [
    "' '.join(new)"
   ]
  },
  {
   "cell_type": "code",
   "execution_count": 37,
   "id": "10febbf3-dbf2-4d42-a815-3b0473e2e982",
   "metadata": {},
   "outputs": [],
   "source": [
    "new = ' '.join(new)"
   ]
  },
  {
   "cell_type": "code",
   "execution_count": 38,
   "id": "c5171f92-2783-4aa3-804d-4f345fd9515d",
   "metadata": {},
   "outputs": [
    {
     "data": {
      "text/plain": [
       "'Hello friends How are you I hope you like Python Programming'"
      ]
     },
     "execution_count": 38,
     "metadata": {},
     "output_type": "execute_result"
    }
   ],
   "source": [
    "new"
   ]
  },
  {
   "cell_type": "markdown",
   "id": "37086572-d249-4c22-98d1-40d8775817f8",
   "metadata": {},
   "source": [
    "#### Stopword Removal"
   ]
  },
  {
   "cell_type": "code",
   "execution_count": 34,
   "id": "066dc910-3a35-4575-8e1a-2c15385bf089",
   "metadata": {},
   "outputs": [],
   "source": [
    "from nltk.corpus import stopwords"
   ]
  },
  {
   "cell_type": "code",
   "execution_count": 35,
   "id": "1f8c78f8-f430-426f-8c80-38489d3f652f",
   "metadata": {},
   "outputs": [],
   "source": [
    "swords = stopwords.words('english')"
   ]
  },
  {
   "cell_type": "code",
   "execution_count": 36,
   "id": "a6d7d052-ca8e-4f09-9a05-900cdfc120ff",
   "metadata": {},
   "outputs": [
    {
     "data": {
      "text/plain": [
       "['i',\n",
       " 'me',\n",
       " 'my',\n",
       " 'myself',\n",
       " 'we',\n",
       " 'our',\n",
       " 'ours',\n",
       " 'ourselves',\n",
       " 'you',\n",
       " \"you're\",\n",
       " \"you've\",\n",
       " \"you'll\",\n",
       " \"you'd\",\n",
       " 'your',\n",
       " 'yours',\n",
       " 'yourself',\n",
       " 'yourselves',\n",
       " 'he',\n",
       " 'him',\n",
       " 'his',\n",
       " 'himself',\n",
       " 'she',\n",
       " \"she's\",\n",
       " 'her',\n",
       " 'hers',\n",
       " 'herself',\n",
       " 'it',\n",
       " \"it's\",\n",
       " 'its',\n",
       " 'itself',\n",
       " 'they',\n",
       " 'them',\n",
       " 'their',\n",
       " 'theirs',\n",
       " 'themselves',\n",
       " 'what',\n",
       " 'which',\n",
       " 'who',\n",
       " 'whom',\n",
       " 'this',\n",
       " 'that',\n",
       " \"that'll\",\n",
       " 'these',\n",
       " 'those',\n",
       " 'am',\n",
       " 'is',\n",
       " 'are',\n",
       " 'was',\n",
       " 'were',\n",
       " 'be',\n",
       " 'been',\n",
       " 'being',\n",
       " 'have',\n",
       " 'has',\n",
       " 'had',\n",
       " 'having',\n",
       " 'do',\n",
       " 'does',\n",
       " 'did',\n",
       " 'doing',\n",
       " 'a',\n",
       " 'an',\n",
       " 'the',\n",
       " 'and',\n",
       " 'but',\n",
       " 'if',\n",
       " 'or',\n",
       " 'because',\n",
       " 'as',\n",
       " 'until',\n",
       " 'while',\n",
       " 'of',\n",
       " 'at',\n",
       " 'by',\n",
       " 'for',\n",
       " 'with',\n",
       " 'about',\n",
       " 'against',\n",
       " 'between',\n",
       " 'into',\n",
       " 'through',\n",
       " 'during',\n",
       " 'before',\n",
       " 'after',\n",
       " 'above',\n",
       " 'below',\n",
       " 'to',\n",
       " 'from',\n",
       " 'up',\n",
       " 'down',\n",
       " 'in',\n",
       " 'out',\n",
       " 'on',\n",
       " 'off',\n",
       " 'over',\n",
       " 'under',\n",
       " 'again',\n",
       " 'further',\n",
       " 'then',\n",
       " 'once',\n",
       " 'here',\n",
       " 'there',\n",
       " 'when',\n",
       " 'where',\n",
       " 'why',\n",
       " 'how',\n",
       " 'all',\n",
       " 'any',\n",
       " 'both',\n",
       " 'each',\n",
       " 'few',\n",
       " 'more',\n",
       " 'most',\n",
       " 'other',\n",
       " 'some',\n",
       " 'such',\n",
       " 'no',\n",
       " 'nor',\n",
       " 'not',\n",
       " 'only',\n",
       " 'own',\n",
       " 'same',\n",
       " 'so',\n",
       " 'than',\n",
       " 'too',\n",
       " 'very',\n",
       " 's',\n",
       " 't',\n",
       " 'can',\n",
       " 'will',\n",
       " 'just',\n",
       " 'don',\n",
       " \"don't\",\n",
       " 'should',\n",
       " \"should've\",\n",
       " 'now',\n",
       " 'd',\n",
       " 'll',\n",
       " 'm',\n",
       " 'o',\n",
       " 're',\n",
       " 've',\n",
       " 'y',\n",
       " 'ain',\n",
       " 'aren',\n",
       " \"aren't\",\n",
       " 'couldn',\n",
       " \"couldn't\",\n",
       " 'didn',\n",
       " \"didn't\",\n",
       " 'doesn',\n",
       " \"doesn't\",\n",
       " 'hadn',\n",
       " \"hadn't\",\n",
       " 'hasn',\n",
       " \"hasn't\",\n",
       " 'haven',\n",
       " \"haven't\",\n",
       " 'isn',\n",
       " \"isn't\",\n",
       " 'ma',\n",
       " 'mightn',\n",
       " \"mightn't\",\n",
       " 'mustn',\n",
       " \"mustn't\",\n",
       " 'needn',\n",
       " \"needn't\",\n",
       " 'shan',\n",
       " \"shan't\",\n",
       " 'shouldn',\n",
       " \"shouldn't\",\n",
       " 'wasn',\n",
       " \"wasn't\",\n",
       " 'weren',\n",
       " \"weren't\",\n",
       " 'won',\n",
       " \"won't\",\n",
       " 'wouldn',\n",
       " \"wouldn't\"]"
      ]
     },
     "execution_count": 36,
     "metadata": {},
     "output_type": "execute_result"
    }
   ],
   "source": [
    "swords"
   ]
  },
  {
   "cell_type": "code",
   "execution_count": 47,
   "id": "2c1cdd04-ae41-4abc-a24b-0f90bf9ffe76",
   "metadata": {},
   "outputs": [],
   "source": [
    "clean = []\n",
    "for word in word_tokenize(new):\n",
    "    if word.lower() not in swords:\n",
    "        clean.append(word)"
   ]
  },
  {
   "cell_type": "code",
   "execution_count": 48,
   "id": "d86d505b-78bf-4160-8d41-4513fb076575",
   "metadata": {},
   "outputs": [
    {
     "data": {
      "text/plain": [
       "['Hello', 'friends', 'hope', 'like', 'Python', 'Programming']"
      ]
     },
     "execution_count": 48,
     "metadata": {},
     "output_type": "execute_result"
    }
   ],
   "source": [
    "clean"
   ]
  },
  {
   "cell_type": "code",
   "execution_count": 51,
   "id": "0d684ac1-f6cb-4ba4-b767-71ad93bf4fd5",
   "metadata": {},
   "outputs": [
    {
     "data": {
      "text/plain": [
       "['Hello', 'friends', 'hope', 'like', 'Python', 'Programming']"
      ]
     },
     "execution_count": 51,
     "metadata": {},
     "output_type": "execute_result"
    }
   ],
   "source": [
    "clean = [word for word in word_tokenize(new) if word.lower() not in swords]\n",
    "clean"
   ]
  },
  {
   "cell_type": "markdown",
   "id": "c3f5978e-5d71-4139-b44e-4ce561a02a53",
   "metadata": {},
   "source": [
    "#### Porter Stemmer"
   ]
  },
  {
   "cell_type": "code",
   "execution_count": 55,
   "id": "d6c5bc95-3a78-4a14-b891-dfd9f57bec6c",
   "metadata": {},
   "outputs": [],
   "source": [
    "words1 = 'plays','player','players','playing','played'\n",
    "words2 = 'go','gone','going','went'\n",
    "words3 = 'association','associated','associate','associating'\n",
    "words4 = 'bad','worse','worst','better'"
   ]
  },
  {
   "cell_type": "code",
   "execution_count": 54,
   "id": "386accc4-0b26-4aa2-99b9-9b9e4297b8d1",
   "metadata": {},
   "outputs": [
    {
     "data": {
      "text/plain": [
       "('plays', 'player', 'players', 'playing', 'played')"
      ]
     },
     "execution_count": 54,
     "metadata": {},
     "output_type": "execute_result"
    }
   ],
   "source": [
    "words1"
   ]
  },
  {
   "cell_type": "code",
   "execution_count": 56,
   "id": "c9112a05-e592-4c36-a891-2e52315fbbdb",
   "metadata": {},
   "outputs": [],
   "source": [
    "from nltk.stem import PorterStemmer"
   ]
  },
  {
   "cell_type": "code",
   "execution_count": 57,
   "id": "4da4cef3-c27a-449b-a107-73b53c856200",
   "metadata": {},
   "outputs": [],
   "source": [
    "ps = PorterStemmer()"
   ]
  },
  {
   "cell_type": "code",
   "execution_count": 58,
   "id": "b5a2011e-2cd7-4d65-b5e7-0e8228a7074c",
   "metadata": {},
   "outputs": [
    {
     "data": {
      "text/plain": [
       "'play'"
      ]
     },
     "execution_count": 58,
     "metadata": {},
     "output_type": "execute_result"
    }
   ],
   "source": [
    "ps.stem(words1[0])"
   ]
  },
  {
   "cell_type": "code",
   "execution_count": 59,
   "id": "ebce1851-5002-4b7f-a3ae-80da34a236a5",
   "metadata": {},
   "outputs": [
    {
     "data": {
      "text/plain": [
       "'go'"
      ]
     },
     "execution_count": 59,
     "metadata": {},
     "output_type": "execute_result"
    }
   ],
   "source": [
    "ps.stem(words2[2])"
   ]
  },
  {
   "cell_type": "code",
   "execution_count": 60,
   "id": "45a7d42d-4c01-4daf-9c44-b6fed6029325",
   "metadata": {},
   "outputs": [
    {
     "name": "stdout",
     "output_type": "stream",
     "text": [
      "play\n",
      "player\n",
      "player\n",
      "play\n",
      "play\n"
     ]
    }
   ],
   "source": [
    "for word in words1:\n",
    "    print(ps.stem(word))"
   ]
  },
  {
   "cell_type": "code",
   "execution_count": 61,
   "id": "d60f8edf-53ba-432c-b5d7-9d994a07d981",
   "metadata": {},
   "outputs": [
    {
     "name": "stdout",
     "output_type": "stream",
     "text": [
      "go\n",
      "gone\n",
      "go\n",
      "went\n"
     ]
    }
   ],
   "source": [
    "for word in words2:\n",
    "    print(ps.stem(word))"
   ]
  },
  {
   "cell_type": "code",
   "execution_count": 62,
   "id": "82ee2165-3f5f-4463-88e3-a9d38b714907",
   "metadata": {},
   "outputs": [
    {
     "name": "stdout",
     "output_type": "stream",
     "text": [
      "associ\n",
      "associ\n",
      "associ\n",
      "associ\n"
     ]
    }
   ],
   "source": [
    "for word in words3:\n",
    "    print(ps.stem(word))"
   ]
  },
  {
   "cell_type": "code",
   "execution_count": 63,
   "id": "66f00889-72c5-43a3-8842-5de58f6aef7c",
   "metadata": {},
   "outputs": [
    {
     "name": "stdout",
     "output_type": "stream",
     "text": [
      "bad\n",
      "wors\n",
      "worst\n",
      "better\n"
     ]
    }
   ],
   "source": [
    "for word in words4:\n",
    "    print(ps.stem(word))"
   ]
  },
  {
   "cell_type": "markdown",
   "id": "6382c525-6680-45a9-97bb-5e073fe6bed2",
   "metadata": {},
   "source": [
    "#### Lancaster Stemmer"
   ]
  },
  {
   "cell_type": "code",
   "execution_count": 65,
   "id": "c37a3a86-1fe8-41ef-9d00-c8a0a3942c8b",
   "metadata": {},
   "outputs": [],
   "source": [
    "from nltk.stem import LancasterStemmer"
   ]
  },
  {
   "cell_type": "code",
   "execution_count": 66,
   "id": "ad57a00f-20f3-4f54-a8cd-c58950168783",
   "metadata": {},
   "outputs": [],
   "source": [
    "ls = LancasterStemmer()"
   ]
  },
  {
   "cell_type": "code",
   "execution_count": 67,
   "id": "1ae88da3-15d9-4a43-9804-f2e3a3c2eb81",
   "metadata": {},
   "outputs": [
    {
     "name": "stdout",
     "output_type": "stream",
     "text": [
      "play\n",
      "play\n",
      "play\n",
      "play\n",
      "play\n"
     ]
    }
   ],
   "source": [
    "for word in words1:\n",
    "    print(ls.stem(word))"
   ]
  },
  {
   "cell_type": "code",
   "execution_count": 68,
   "id": "a0ef9ca1-c64c-46bd-b08d-6621c6d92f15",
   "metadata": {},
   "outputs": [
    {
     "name": "stdout",
     "output_type": "stream",
     "text": [
      "assocy\n",
      "assocy\n",
      "assocy\n",
      "assocy\n"
     ]
    }
   ],
   "source": [
    "for word in words3:\n",
    "    print(ls.stem(word))"
   ]
  },
  {
   "cell_type": "code",
   "execution_count": 69,
   "id": "fe850651-e2ba-44c7-a16a-a149f8341f51",
   "metadata": {},
   "outputs": [
    {
     "name": "stdout",
     "output_type": "stream",
     "text": [
      "go\n",
      "gon\n",
      "going\n",
      "went\n"
     ]
    }
   ],
   "source": [
    "for word in words2:\n",
    "    print(ls.stem(word))"
   ]
  },
  {
   "cell_type": "markdown",
   "id": "870e14d6-08f5-415a-a142-52c63eb33f54",
   "metadata": {},
   "source": [
    "#### Lemmatization"
   ]
  },
  {
   "cell_type": "code",
   "execution_count": 71,
   "id": "f46d1b49-9038-4482-be48-66472cf09192",
   "metadata": {},
   "outputs": [],
   "source": [
    "from nltk.stem import WordNetLemmatizer"
   ]
  },
  {
   "cell_type": "code",
   "execution_count": 72,
   "id": "5445e64b-890e-4773-9d11-3bd1805b30d2",
   "metadata": {},
   "outputs": [],
   "source": [
    "wnl = WordNetLemmatizer()"
   ]
  },
  {
   "cell_type": "code",
   "execution_count": 75,
   "id": "fbc0e529-9a36-4b64-b33f-452a6c15a2ec",
   "metadata": {},
   "outputs": [
    {
     "name": "stdout",
     "output_type": "stream",
     "text": [
      "Noun     : player\n",
      "Verb     : players\n",
      "Adjective: players\n",
      "Adverb   : players\n"
     ]
    }
   ],
   "source": [
    "word = 'players'\n",
    "print('Noun     :', wnl.lemmatize(word, pos = 'n'))\n",
    "print('Verb     :', wnl.lemmatize(word, pos = 'v'))\n",
    "print('Adjective:', wnl.lemmatize(word, pos = 'a'))\n",
    "print('Adverb   :', wnl.lemmatize(word, pos = 'r'))"
   ]
  },
  {
   "cell_type": "code",
   "execution_count": 76,
   "id": "d00ef38d-2152-4fc6-8c3c-a6184d97a3b3",
   "metadata": {},
   "outputs": [
    {
     "name": "stdout",
     "output_type": "stream",
     "text": [
      "Noun     : working\n",
      "Verb     : work\n",
      "Adjective: working\n",
      "Adverb   : working\n"
     ]
    }
   ],
   "source": [
    "word = 'working'\n",
    "print('Noun     :', wnl.lemmatize(word, pos = 'n'))\n",
    "print('Verb     :', wnl.lemmatize(word, pos = 'v'))\n",
    "print('Adjective:', wnl.lemmatize(word, pos = 'a'))\n",
    "print('Adverb   :', wnl.lemmatize(word, pos = 'r'))"
   ]
  },
  {
   "cell_type": "code",
   "execution_count": 77,
   "id": "1b1e7fa6-196d-42b9-913f-5e7200e528eb",
   "metadata": {},
   "outputs": [
    {
     "name": "stdout",
     "output_type": "stream",
     "text": [
      "Noun     : went\n",
      "Verb     : go\n",
      "Adjective: went\n",
      "Adverb   : went\n"
     ]
    }
   ],
   "source": [
    "word = 'went'\n",
    "print('Noun     :', wnl.lemmatize(word, pos = 'n'))\n",
    "print('Verb     :', wnl.lemmatize(word, pos = 'v'))\n",
    "print('Adjective:', wnl.lemmatize(word, pos = 'a'))\n",
    "print('Adverb   :', wnl.lemmatize(word, pos = 'r'))"
   ]
  },
  {
   "cell_type": "code",
   "execution_count": 78,
   "id": "3ebcf37b-8af6-4d3c-8f27-1785a31845e6",
   "metadata": {},
   "outputs": [
    {
     "name": "stdout",
     "output_type": "stream",
     "text": [
      "Noun     : worst\n",
      "Verb     : worst\n",
      "Adjective: bad\n",
      "Adverb   : worst\n"
     ]
    }
   ],
   "source": [
    "word = 'worst'\n",
    "print('Noun     :', wnl.lemmatize(word, pos = 'n'))\n",
    "print('Verb     :', wnl.lemmatize(word, pos = 'v'))\n",
    "print('Adjective:', wnl.lemmatize(word, pos = 'a'))\n",
    "print('Adverb   :', wnl.lemmatize(word, pos = 'r'))"
   ]
  },
  {
   "cell_type": "code",
   "execution_count": 79,
   "id": "0b5346d6-6cbb-4630-a298-2f99f94718b2",
   "metadata": {},
   "outputs": [
    {
     "name": "stdout",
     "output_type": "stream",
     "text": [
      "Noun     : child\n",
      "Verb     : children\n",
      "Adjective: children\n",
      "Adverb   : children\n"
     ]
    }
   ],
   "source": [
    "word = 'children'\n",
    "print('Noun     :', wnl.lemmatize(word, pos = 'n'))\n",
    "print('Verb     :', wnl.lemmatize(word, pos = 'v'))\n",
    "print('Adjective:', wnl.lemmatize(word, pos = 'a'))\n",
    "print('Adverb   :', wnl.lemmatize(word, pos = 'r'))"
   ]
  },
  {
   "cell_type": "code",
   "execution_count": 80,
   "id": "2892eb85-351c-477f-906c-c2b5ff3a49f0",
   "metadata": {},
   "outputs": [
    {
     "name": "stdout",
     "output_type": "stream",
     "text": [
      "Noun     : ate\n",
      "Verb     : eat\n",
      "Adjective: ate\n",
      "Adverb   : ate\n"
     ]
    }
   ],
   "source": [
    "word = 'ate'\n",
    "print('Noun     :', wnl.lemmatize(word, pos = 'n'))\n",
    "print('Verb     :', wnl.lemmatize(word, pos = 'v'))\n",
    "print('Adjective:', wnl.lemmatize(word, pos = 'a'))\n",
    "print('Adverb   :', wnl.lemmatize(word, pos = 'r'))"
   ]
  },
  {
   "cell_type": "code",
   "execution_count": 81,
   "id": "f8b80ef9-5af5-4cfa-8808-9b0befbe8e17",
   "metadata": {},
   "outputs": [
    {
     "name": "stdout",
     "output_type": "stream",
     "text": [
      "Noun     : literally\n",
      "Verb     : literally\n",
      "Adjective: literally\n",
      "Adverb   : literally\n"
     ]
    }
   ],
   "source": [
    "word = 'literally'\n",
    "print('Noun     :', wnl.lemmatize(word, pos = 'n'))\n",
    "print('Verb     :', wnl.lemmatize(word, pos = 'v'))\n",
    "print('Adjective:', wnl.lemmatize(word, pos = 'a'))\n",
    "print('Adverb   :', wnl.lemmatize(word, pos = 'r'))"
   ]
  },
  {
   "cell_type": "markdown",
   "id": "8df30e17-9e76-492a-b761-7d23b6b0509f",
   "metadata": {},
   "source": [
    "#### POS Tagging"
   ]
  },
  {
   "cell_type": "code",
   "execution_count": 83,
   "id": "2e2c2f04-4a0b-4aba-8c23-25804e177756",
   "metadata": {},
   "outputs": [],
   "source": [
    "sent = 'Hello friends! How are you? I hope, you like Python Programming.'"
   ]
  },
  {
   "cell_type": "code",
   "execution_count": 84,
   "id": "faa5ed7f-4c81-483e-b21c-ad21f4efab55",
   "metadata": {},
   "outputs": [],
   "source": [
    "from nltk import pos_tag"
   ]
  },
  {
   "cell_type": "code",
   "execution_count": 85,
   "id": "cbc51019-dd49-4a4d-aefb-edef909e4280",
   "metadata": {},
   "outputs": [],
   "source": [
    "tags = pos_tag(word_tokenize(sent))"
   ]
  },
  {
   "cell_type": "code",
   "execution_count": 86,
   "id": "2c586d68-a493-4f08-9277-df99c41b5ac2",
   "metadata": {},
   "outputs": [
    {
     "data": {
      "text/plain": [
       "[('Hello', 'NNP'),\n",
       " ('friends', 'VBZ'),\n",
       " ('!', '.'),\n",
       " ('How', 'WRB'),\n",
       " ('are', 'VBP'),\n",
       " ('you', 'PRP'),\n",
       " ('?', '.'),\n",
       " ('I', 'PRP'),\n",
       " ('hope', 'VBP'),\n",
       " (',', ','),\n",
       " ('you', 'PRP'),\n",
       " ('like', 'VBP'),\n",
       " ('Python', 'NNP'),\n",
       " ('Programming', 'NNP'),\n",
       " ('.', '.')]"
      ]
     },
     "execution_count": 86,
     "metadata": {},
     "output_type": "execute_result"
    }
   ],
   "source": [
    "tags"
   ]
  },
  {
   "cell_type": "code",
   "execution_count": 87,
   "id": "35399035-9467-4d76-ae05-790adfacc32f",
   "metadata": {},
   "outputs": [
    {
     "name": "stdout",
     "output_type": "stream",
     "text": [
      "Hello\n",
      "Python\n",
      "Programming\n"
     ]
    }
   ],
   "source": [
    "for word, tag in tags:\n",
    "    if tag.startswith('N'):\n",
    "        print(word)"
   ]
  },
  {
   "cell_type": "code",
   "execution_count": null,
   "id": "8d2035e8-8083-4f81-99fa-9b0c0b7b2ad4",
   "metadata": {},
   "outputs": [],
   "source": []
  }
 ],
 "metadata": {
  "kernelspec": {
   "display_name": "Python 3 (ipykernel)",
   "language": "python",
   "name": "python3"
  },
  "language_info": {
   "codemirror_mode": {
    "name": "ipython",
    "version": 3
   },
   "file_extension": ".py",
   "mimetype": "text/x-python",
   "name": "python",
   "nbconvert_exporter": "python",
   "pygments_lexer": "ipython3",
   "version": "3.10.12"
  }
 },
 "nbformat": 4,
 "nbformat_minor": 5
}
